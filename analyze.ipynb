{
 "cells": [
  {
   "cell_type": "code",
   "execution_count": null,
   "id": "af374891",
   "metadata": {},
   "outputs": [],
   "source": [
    "import pandas as pd\n",
    "import numpy as np\n",
    "\n",
    "# Load the data, require labels and features\n",
    "df_train_set = pd.read_csv('data/train_judgments.csv')\n",
    "df_dev_set = pd.read_csv('data/dev_judgments.csv')"
   ]
  },
  {
   "cell_type": "code",
   "execution_count": null,
   "id": "990681e1",
   "metadata": {},
   "outputs": [],
   "source": [
    "import matplotlib.pyplot as plt\n",
    "\n",
    "print(len(df_train_set))\n",
    "# project the cosine similarity with the proximity judgement\n",
    "plt.plot(df_train_set['cosine_similarity'], df_train_set['median_judgment'], \".\") \n",
    "plt.xlabel('cosine_similarity')\n",
    "plt.ylabel('median_judgment')"
   ]
  },
  {
   "cell_type": "code",
   "execution_count": null,
   "id": "9404aa41",
   "metadata": {},
   "outputs": [],
   "source": [
    "import pickle\n",
    "import cloudpickle\n",
    "import arviz as az\n",
    "\n",
    "# Load the linear model\n",
    "pickle_filepath = f'pickle.pkl'\n",
    "with open(pickle_filepath , 'rb') as buff:\n",
    "    model_dict = cloudpickle.load(buff)\n",
    "\n",
    "trace = model_dict['trace']\n",
    "model = model_dict['model']\n",
    "\n",
    "az.summary(trace, kind='stats')"
   ]
  },
  {
   "cell_type": "code",
   "execution_count": null,
   "id": "147b05b4",
   "metadata": {},
   "outputs": [],
   "source": [
    "trace_df = trace.posterior.to_dataframe()\n",
    "trace_df.cov().round(3)"
   ]
  },
  {
   "cell_type": "code",
   "execution_count": null,
   "id": "2723d440",
   "metadata": {},
   "outputs": [],
   "source": [
    "xbar = df_train_set['cosine_similarity'].mean()\n",
    "plt.plot(df_train_set['cosine_similarity'], df_train_set['median_judgment'], \".\")\n",
    "plt.plot(\n",
    "    df_train_set['cosine_similarity'],\n",
    "    trace.posterior[\"a\"].mean().item(0)\n",
    "    + trace.posterior[\"b\"].mean().item(0) * (df_train_set['cosine_similarity'] - xbar),\n",
    ")\n",
    "plt.xlabel('cosine_similarity')\n",
    "plt.ylabel('median_judgment')"
   ]
  },
  {
   "cell_type": "code",
   "execution_count": null,
   "id": "742d7dad",
   "metadata": {},
   "outputs": [],
   "source": [
    "import pymc as pm\n",
    "\n",
    "samp_size = 1000\n",
    "slice_rate = int(len(trace[\"posterior\"][\"draw\"]) / samp_size)\n",
    "thin_data = trace.sel(draw=slice(None, None, slice_rate))\n",
    "xbar = df_dev_set['cosine_similarity'].mean()\n",
    "with pm.Model() as WiC_predict:\n",
    "    # priors\n",
    "    a = pm.Normal(\"a\", mu=0, sigma=4)\n",
    "    b = pm.Lognormal(\"b\", mu=0, sigma=1)\n",
    "    sigma = pm.Uniform(\"sigma\", 0, 1)\n",
    "\n",
    "    mu = a + b * (df_dev_set['cosine_similarity'] - xbar)\n",
    "    proximity = pm.Normal(\"proximity\", mu=mu, sigma=sigma)\n",
    "    \n",
    "    proximity_pred = pm.sample_posterior_predictive(thin_data, var_names=['proximity'])\n",
    "az.plot_hdi(df_dev_set['cosine_similarity'], proximity_pred.posterior_predictive[\"proximity\"], hdi_prob=0.89)\n",
    "plt.scatter(df_dev_set['cosine_similarity'], df_dev_set['median_judgment'])\n",
    "plt.xlabel(\"cosine_similarity\")\n",
    "plt.ylabel(\"median_judgment\")"
   ]
  }
 ],
 "metadata": {
  "kernelspec": {
   "display_name": "Python (torch)",
   "language": "python",
   "name": "my-env"
  },
  "language_info": {
   "codemirror_mode": {
    "name": "ipython",
    "version": 3
   },
   "file_extension": ".py",
   "mimetype": "text/x-python",
   "name": "python",
   "nbconvert_exporter": "python",
   "pygments_lexer": "ipython3",
   "version": "3.11.2"
  }
 },
 "nbformat": 4,
 "nbformat_minor": 5
}
